{
 "cells": [
  {
   "cell_type": "markdown",
   "metadata": {},
   "source": [
    "## CheckPoint 01 (2° Semester) - Dynamic Programming\n",
    "\n",
    "- Fabrício Saavedra - RM:97631\n",
    "- Guilherme Akio - RM:98582\n",
    "- Matheus Motta - RM:550352"
   ]
  },
  {
   "cell_type": "markdown",
   "metadata": {},
   "source": [
    "### In this notebook there is a study on the performance of 4 different algorithms for matrix multiplication"
   ]
  },
  {
   "cell_type": "markdown",
   "metadata": {},
   "source": [
    "##### Importing the libraries"
   ]
  },
  {
   "cell_type": "code",
   "execution_count": 1,
   "metadata": {},
   "outputs": [],
   "source": [
    "import numpy as np  # Library for numerical operations, used to generate matrices\n",
    "import time  # Library to measure execution time\n",
    "import matplotlib.pyplot as plt  # Library for visualization of graphs"
   ]
  },
  {
   "cell_type": "markdown",
   "metadata": {},
   "source": [
    "##### First - Traditional way"
   ]
  },
  {
   "cell_type": "code",
   "execution_count": 2,
   "metadata": {},
   "outputs": [],
   "source": [
    "# Traditional Matrix Multiplication Algorithm\n",
    "def multiply_traditional(A, B):\n",
    "    n = len(A) # Get the size of the matrix (assuming square matrices)\n",
    "    result = [[0] * n for _ in range(n)] # Initialize the result matrix with zeros\n",
    "    # Loop to calculate the product of two matrices\n",
    "    for i in range(n): # Iterate over the rows of A\n",
    "        for j in range(n): # Iterate over the columns of B\n",
    "            for k in range(n): # Iterate to calculate the scalar product\n",
    "                result[i][j] += A[i][k] * B[k][j] # Sum the product of the elements\n",
    "    return result"
   ]
  },
  {
   "cell_type": "markdown",
   "metadata": {},
   "source": [
    "##### Second - Strassen Algorithm"
   ]
  },
  {
   "cell_type": "code",
   "execution_count": 3,
   "metadata": {},
   "outputs": [],
   "source": [
    "# Helper functions for Strassen's Algorithm\n",
    "def add_matrices(A, B):\n",
    "    # Adds two matrices\n",
    "    return [[A[i][j] + B[i][j] for j in range(len(A))] for i in range(len(A))]\n",
    "\n",
    "def subtract_matrices(A, B):\n",
    "    # Subtracts two matrices\n",
    "    return [[A[i][j] - B[i][j] for j in range(len(A))] for i in range(len(A))]\n",
    "\n",
    "# Strassen's Algorithm for matrix multiplication\n",
    "def multiply_strassen(A, B):\n",
    "    # Base case: if the matrix is 1x1\n",
    "    if len(A) == 1:\n",
    "        return [[A[0][0] * B[0][0]]]\n",
    "    \n",
    "    # Dividing the matrices into 4 submatrices\n",
    "    mid = len(A) // 2 # Define the midpoint for division\n",
    "    A11, A12, A21, A22 = split_matrix(A, mid) # Divide matrix A\n",
    "    B11, B12, B21, B22 = split_matrix(B, mid) # Divide matrix B\n",
    "\n",
    "    # Calculating Strassen's products\n",
    "    M1 = multiply_strassen(add_matrices(A11, A22), add_matrices(B11, B22))\n",
    "    M2 = multiply_strassen(add_matrices(A21, A22), B11)\n",
    "    M3 = multiply_strassen(A11, subtract_matrices(B12, B22))\n",
    "    M4 = multiply_strassen(A22, subtract_matrices(B21, B11))\n",
    "    M5 = multiply_strassen(add_matrices(A11, A12), B22)\n",
    "    M6 = multiply_strassen(subtract_matrices(A21, A11), add_matrices(B11, B12))\n",
    "    M7 = multiply_strassen(subtract_matrices(A12, A22), add_matrices(B21, B22))\n",
    "\n",
    "    # Calculating the quadrants of the result\n",
    "    C11 = add_matrices(subtract_matrices(add_matrices(M1, M4), M5), M7)\n",
    "    C12 = add_matrices(M3, M5)\n",
    "    C21 = add_matrices(M2, M4)\n",
    "    C22 = add_matrices(subtract_matrices(add_matrices(M1, M3), M2), M6)\n",
    "\n",
    "    # Combining the submatrices\n",
    "    return combine_matrices(C11, C12, C21, C22)\n",
    "\n",
    "# Function to split the matrix into 4 submatrices\n",
    "def split_matrix(matrix, mid):\n",
    "    A11 = [row[:mid] for row in matrix[:mid]]\n",
    "    A12 = [row[mid:] for row in matrix[:mid]]\n",
    "    A21 = [row[:mid] for row in matrix[mid:]]\n",
    "    A22 = [row[mid:] for row in matrix[mid:]]\n",
    "    return A11, A12, A21, A22\n",
    "\n",
    "# Function to combine 4 submatrices into a larger matrix\n",
    "def combine_matrices(C11, C12, C21, C22):\n",
    "    n = len(C11)\n",
    "    new_matrix = [[0] * (2 * n) for _ in range(2 * n)] # Initialize the combined matrix\n",
    "    for i in range(n):\n",
    "        for j in range(n):\n",
    "            # Copy the elements to the new matrix\n",
    "            new_matrix[i][j] = C11[i][j]\n",
    "            new_matrix[i][j + n] = C12[i][j]\n",
    "            new_matrix[i + n][j] = C21[i][j]\n",
    "            new_matrix[i + n][j + n] = C22[i][j]\n",
    "    return new_matrix"
   ]
  },
  {
   "cell_type": "markdown",
   "metadata": {},
   "source": [
    "##### Third - Winograd Algorithm"
   ]
  },
  {
   "cell_type": "code",
   "execution_count": 4,
   "metadata": {},
   "outputs": [],
   "source": [
    "# Winograd's Algorithm for matrix multiplication\n",
    "def multiply_winograd(A, B):\n",
    "    n = len(A) # Matrix size\n",
    "    result = [[0] * n for _ in range(n)] # Initialize the result matrix with zeros\n",
    "\n",
    "    # Intermediate products to optimize calculations\n",
    "    row_factor = [sum(A[i][k] * A[i][k+1] for k in range(0, n-1, 2)) for i in range(n)]\n",
    "    col_factor = [sum(B[k][j] * B[k+1][j] for k in range(0, n-1, 2)) for j in range(n)]\n",
    "\n",
    "    # Main multiplication using precomputed factors\n",
    "    for i in range(n):\n",
    "        for j in range(n):\n",
    "            result[i][j] = -row_factor[i] - col_factor[j]\n",
    "            for k in range(0, n-1, 2):\n",
    "                result[i][j] += (A[i][k] + B[k+1][j]) * (A[i][k+1] + B[k][j])\n",
    "    \n",
    "    # Correction if n is odd (when there is an additional column/row)\n",
    "    if n % 2:\n",
    "        for i in range(n):\n",
    "            for j in range(n):\n",
    "                result[i][j] += A[i][n-1] * B[n-1][j]\n",
    "\n",
    "    return result"
   ]
  },
  {
   "cell_type": "markdown",
   "metadata": {},
   "source": [
    "##### Fourth - Karstadt"
   ]
  },
  {
   "cell_type": "code",
   "execution_count": 5,
   "metadata": {},
   "outputs": [],
   "source": [
    "# Karstadt's Algorithm for matrix multiplication\n",
    "def multiply_karstadt(A, B):\n",
    "    n = len(A) # Matrix size\n",
    "    result = [[0] * n for _ in range(n)] # Initialize the result matrix with zeros\n",
    "\n",
    "    # Preparation for Karstadt's algorithm\n",
    "    # Dividing matrices into smaller blocks\n",
    "    block_size = 2  # Example of block size 2x2\n",
    "    for i in range(0, n, block_size):\n",
    "        for j in range(0, n, block_size):\n",
    "            for k in range(0, n, block_size):\n",
    "                # Multiplication of smaller blocks\n",
    "                for ii in range(block_size):\n",
    "                    for jj in range(block_size):\n",
    "                        for kk in range(block_size):\n",
    "                            result[i+ii][j+jj] += A[i+ii][k+kk] * B[k+kk][j+jj]\n",
    "    return result"
   ]
  },
  {
   "cell_type": "markdown",
   "metadata": {},
   "source": [
    "##### Functions to calculate the results"
   ]
  },
  {
   "cell_type": "code",
   "execution_count": 6,
   "metadata": {},
   "outputs": [
    {
     "data": {
      "image/png": "[encoded data removed]",
      "text/plain": [
       "<Figure size 640x480 with 1 Axes>"
      ]
     },
     "metadata": {},
     "output_type": "display_data"
    }
   ],
   "source": [
    "# Function to measure the execution time of each algorithm\n",
    "def measure_time(func, A, B):\n",
    "    start_time = time.time() # Mark the start time\n",
    "    func(A, B) # Execute the matrix multiplication function\n",
    "    end_time = time.time() # Mark the end time\n",
    "    return end_time - start_time # Return the execution time\n",
    "\n",
    "# Function to test the performance of the algorithms\n",
    "def test_performance(w, x, y, z):\n",
    "    sizes = [w, x, y, z] # Matrix sizes for performance testing\n",
    "    traditional_times = [] # List to store the times of the Traditional algorithm\n",
    "    strassen_times = [] # List to store the times of Strassen's algorithm\n",
    "    winograd_times = [] # List to store the times of Winograd's algorithm\n",
    "    karstadt_times = [] # List to store the times of Karstadt's algorithm\n",
    "\n",
    "    # Test each matrix size\n",
    "    for size in sizes:\n",
    "        A = np.random.randint(10, size=(size, size)).tolist() # Generate a random matrix A\n",
    "        B = np.random.randint(10, size=(size, size)).tolist() # Generate a random matrix B\n",
    "\n",
    "        # Measure and store the execution time of each algorithm\n",
    "        traditional_times.append(measure_time(multiply_traditional, A, B))\n",
    "        strassen_times.append(measure_time(multiply_strassen, A, B))\n",
    "        winograd_times.append(measure_time(multiply_winograd, A, B))\n",
    "        karstadt_times.append(measure_time(multiply_karstadt, A, B))\n",
    "\n",
    "    # Visualize the results\n",
    "    plt.plot(sizes, traditional_times, label='Traditional')\n",
    "    plt.plot(sizes, strassen_times, label='Strassen')\n",
    "    plt.plot(sizes, winograd_times, label='Winograd')\n",
    "    plt.plot(sizes, karstadt_times, label='Karstadt')\n",
    "    plt.xlabel('Matrix Size') # X-axis label\n",
    "    plt.ylabel('Time (seconds)') # Y-axis label\n",
    "    plt.legend() # Legend to differentiate the algorithms\n",
    "    plt.show() # Show the plot\n",
    "\n",
    "# Execute the performance test\n",
    "test_performance(64, 128, 256, 512)"
   ]
  }
 ],
 "metadata": {
  "kernelspec": {
   "display_name": "Python 3",
   "language": "python",
   "name": "python3"
  },
  "language_info": {
   "codemirror_mode": {
    "name": "ipython",
    "version": 3
   },
   "file_extension": ".py",
   "mimetype": "text/x-python",
   "name": "python",
   "nbconvert_exporter": "python",
   "pygments_lexer": "ipython3",
   "version": "3.11.9"
  }
 },
 "nbformat": 4,
 "nbformat_minor": 2
}
