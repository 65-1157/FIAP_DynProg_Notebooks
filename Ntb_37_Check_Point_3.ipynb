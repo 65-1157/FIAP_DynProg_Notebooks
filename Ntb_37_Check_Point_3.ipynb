{
  "cells": [
    {
      "cell_type": "markdown",
      "metadata": {
        "id": "L1_LgPoMyUw7"
      },
      "source": [
        "## PROFIT ESTIMATION\n",
        "## One of the most key task in business is to estimate the enterprise profit. One key factor is the price of the goods, which can be set by the enterprise pricing branch or the commercial team.\n",
        "### - Thus, the profit is a function of the price, as well as the demand. The higer the price, the lower will be the demand, in general.\n",
        "### Assume the following simple equation to define the profit:\n",
        "### - The profit comes from the difference between Revenue and Costs. The higher the difference, the higher the profit. Revenue comes from the product between price and demand, and cost has two parts: one linked to the demand and other known as fixed cost.\n",
        "###  - In our business, the demand has the following relationshipe = a - b.Price + e, where a and b are coefficients based on historical data, and e is random variation, which may be simulated from a Normal distribution.\n",
        "### - On the other hand, profit comes from: (Price - variable Cost) * Demand - Fixed Cost. Assume the following:\n",
        "#### Fixed Cost = 3000. a = 1000, b = 25, standard deviation = 10, mean = 0, variable cost = $ 35 per demanded unit.\n",
        "#### As seen, there are two equations and their factors.\n",
        "#### Based on Monte Carlos approach and the above, provide an estimate of the best Price we may take and the associated Profit.\n",
        "#### Explain you code as much as possible, make clear your assumptions or approximations. Explore the best practices in software engineering.\n",
        "#### Hint: Demand may be approximate by a Normal distribution, like: Demand = a - b * Price, with mean = 0 and standard deviation = 10."
      ]
    },
    {
      "cell_type": "code",
      "execution_count": 2,
      "metadata": {},
      "outputs": [],
      "source": [
        "import numpy as np"
      ]
    },
    {
      "cell_type": "markdown",
      "metadata": {},
      "source": [
        "### The function monte_carlo() takes in all the parameters needed for the simulation, including coefficients for the demand equation, costs, normal distribution parameters, number of simulations, and the range of prices to evaluate."
      ]
    },
    {
      "cell_type": "code",
      "execution_count": 3,
      "metadata": {},
      "outputs": [],
      "source": [
        "def monte_carlo(a, b, fixed_cost, variable_cost, mean, std_dev, num_simulations, price_range):\n",
        "    # Calculate the average profit for each price in the price range\n",
        "    average_profits = [\n",
        "        # Calculate the average profit for the current price\n",
        "        np.mean(\n",
        "            # Profit formula: (Price - Variable Cost) * Demand - Fixed Cost\n",
        "            (price - variable_cost) * \n",
        "            # Simulate demand using the demand equation with added normal random variation\n",
        "            np.maximum(a - b * price + np.random.normal(mean, std_dev, num_simulations), 0) - \n",
        "            fixed_cost\n",
        "        )\n",
        "        for price in price_range  # Iterate over each price in the given price range\n",
        "    ]\n",
        "    \n",
        "    # Identify the index of the price with the maximum average profit\n",
        "    best_price_index = np.argmax(average_profits)\n",
        "    \n",
        "    # Return the best price and the corresponding average profit\n",
        "    return price_range[best_price_index], average_profits[best_price_index]\n"
      ]
    },
    {
      "cell_type": "markdown",
      "metadata": {},
      "source": [
        "### Example parameters"
      ]
    },
    {
      "cell_type": "code",
      "execution_count": 12,
      "metadata": {},
      "outputs": [],
      "source": [
        "a = 1000\n",
        "b = 25\n",
        "fixed_cost = 3000\n",
        "variable_cost = 35\n",
        "mean = 0\n",
        "std_dev = 10\n",
        "num_simulations = 10000\n",
        "price_range = np.linspace(20, 80, 100)  # Evaluate prices between $20 and $"
      ]
    },
    {
      "cell_type": "markdown",
      "metadata": {},
      "source": [
        "### Execute the code"
      ]
    },
    {
      "cell_type": "code",
      "execution_count": 14,
      "metadata": {},
      "outputs": [
        {
          "data": {
            "text/plain": [
              "(37.57575757575758, -2844.4748913635262)"
            ]
          },
          "execution_count": 14,
          "metadata": {},
          "output_type": "execute_result"
        }
      ],
      "source": [
        "best_price, best_profit = monte_carlo(a, b, fixed_cost, variable_cost, mean, std_dev, num_simulations, price_range)\n",
        "\n",
        "best_price, best_profit"
      ]
    }
  ],
  "metadata": {
    "colab": {
      "provenance": []
    },
    "kernelspec": {
      "display_name": "Python 3",
      "name": "python3"
    },
    "language_info": {
      "codemirror_mode": {
        "name": "ipython",
        "version": 3
      },
      "file_extension": ".py",
      "mimetype": "text/x-python",
      "name": "python",
      "nbconvert_exporter": "python",
      "pygments_lexer": "ipython3",
      "version": "3.12.0"
    }
  },
  "nbformat": 4,
  "nbformat_minor": 0
}
