{
  "cells": [
    {
      "cell_type": "code",
      "execution_count": 1,
      "metadata": {
        "id": "MQvyahvTn-RO"
      },
      "outputs": [],
      "source": [
        "import numpy as np\n",
        "import ipywidgets as widgets\n",
        "import time\n",
        "import matplotlib.pyplot as plt\n",
        "from memory_profiler import memory_usage\n",
        "from tabulate import tabulate\n",
        "from IPython.display import display"
      ]
    },
    {
      "cell_type": "markdown",
      "metadata": {},
      "source": [
        "## Matrix Multiplication Using <span style=\"color: #965CD9;\">Simple</span> Algorithm\n",
        "\n"
      ]
    },
    {
      "cell_type": "code",
      "execution_count": 2,
      "metadata": {
        "id": "4L1LCSAln1ij"
      },
      "outputs": [],
      "source": [
        "def basic_matrix_product(A, B):\n",
        "    \"\"\"\n",
        "    Calcula o produto de duas matrizes A e B usando a regra básica de multiplicação de matrizes.\n",
        "    \"\"\"\n",
        "    # Obtém o número de linhas e colunas de cada matriz\n",
        "    rows_A, cols_A = A.shape\n",
        "    rows_B, cols_B = B.shape\n",
        "\n",
        "    # Verifica se o número de colunas de A é igual ao número de linhas de B\n",
        "    assert cols_A == rows_B, \"O número de colunas em A deve ser igual ao número de linhas em B.\"\n",
        "\n",
        "    # Inicializa a matriz de resultado C com zeros\n",
        "    C = np.zeros((rows_A, cols_B))\n",
        "\n",
        "    # Realiza a multiplicação de matrizes\n",
        "    for i in range(rows_A):  # Itera sobre as linhas de A\n",
        "        for j in range(cols_B):  # Itera sobre as colunas de B\n",
        "            for k in range(cols_A):  # Itera sobre as colunas de A (ou linhas de B)\n",
        "                C[i, j] += A[i, k] * B[k, j]  # Soma o produto dos elementos correspondentes\n",
        "\n",
        "    # Retorna a matriz resultante como uma lista\n",
        "    return C.tolist()"
      ]
    },
    {
      "cell_type": "markdown",
      "metadata": {
        "id": "OgnyEoGCBfGl"
      },
      "source": [
        "## Matrix Multiplication Using <span style=\"color: #5C7FD9;\">Strassen</span> Algorithm"
      ]
    },
    {
      "cell_type": "code",
      "execution_count": 3,
      "metadata": {},
      "outputs": [
        {
          "name": "stdout",
          "output_type": "stream",
          "text": [
            "Resultado do Produto das Matrizes com Strassen:\n",
            "[[1544.  716.]\n",
            " [1827.  901.]]\n"
          ]
        }
      ],
      "source": [
        "import numpy as np\n",
        "\n",
        "def strassen(A, B):\n",
        "    if len(A) == 1:\n",
        "        return A * B\n",
        "\n",
        "    mid = len(A) // 2\n",
        "    A11 = A[:mid, :mid]\n",
        "    A12 = A[:mid, mid:]\n",
        "    A21 = A[mid:, :mid]\n",
        "    A22 = A[mid:, mid:]\n",
        "\n",
        "    B11 = B[:mid, :mid]\n",
        "    B12 = B[:mid, mid:]\n",
        "    B21 = B[mid:, :mid]\n",
        "    B22 = B[mid:, mid:]\n",
        "\n",
        "    P1 = strassen(A11 + A22, B11 + B22)\n",
        "    P2 = strassen(A21 + A22, B11)\n",
        "    P3 = strassen(A11, B12 - B22)\n",
        "    P4 = strassen(A22, B21 - B11)\n",
        "    P5 = strassen(A11 + A12, B22)\n",
        "    P6 = strassen(A21 - A11, B11 + B12)\n",
        "    P7 = strassen(A12 - A22, B21 + B22)\n",
        "\n",
        "    C11 = P1 + P4 - P5 + P7\n",
        "    C12 = P3 + P5\n",
        "    C21 = P2 + P4\n",
        "    C22 = P1 + P3 - P2 + P6\n",
        "\n",
        "    C = np.vstack((np.hstack((C11, C12)), np.hstack((C21, C22))))\n",
        "\n",
        "    return C\n",
        "\n",
        "def pad_matrix(matrix, new_shape):\n",
        "    padded_matrix = np.zeros(new_shape)\n",
        "    padded_matrix[:matrix.shape[0], :matrix.shape[1]] = matrix\n",
        "    return padded_matrix\n",
        "\n",
        "def next_power_of_2(x):\n",
        "    return 1 if x == 0 else 2**(x - 1).bit_length()\n",
        "\n",
        "def strassen_matrix_multiplication(A, B):\n",
        "    assert A.shape[1] == B.shape[0], \"Número de colunas de A deve ser igual ao número de linhas de B\"\n",
        "    \n",
        "    new_size = next_power_of_2(max(A.shape[0], A.shape[1], B.shape[0], B.shape[1]))\n",
        "    \n",
        "    A_padded = pad_matrix(A, (new_size, new_size))\n",
        "    B_padded = pad_matrix(B, (new_size, new_size))\n",
        "    \n",
        "    C_padded = strassen(A_padded, B_padded)\n",
        "    \n",
        "    C = C_padded[:A.shape[0], :B.shape[1]]\n",
        "    \n",
        "    return C\n",
        "\n",
        "# Exemplo de uso\n",
        "A = np.array([[6, 21, 16],\n",
        "              [9, 22, 20]])\n",
        "\n",
        "B = np.array([[39, 21],\n",
        "              [38,  6],\n",
        "              [32, 29]])\n",
        "\n",
        "C = strassen_matrix_multiplication(A, B)\n",
        "print(\"Resultado do Produto das Matrizes com Strassen:\")\n",
        "print(C)"
      ]
    },
    {
      "cell_type": "markdown",
      "metadata": {},
      "source": [
        "## Matrix Multiplication Using <span style=\"color: #5CD99E;\">Winograd</span> Algorithm"
      ]
    },
    {
      "cell_type": "code",
      "execution_count": 4,
      "metadata": {},
      "outputs": [],
      "source": [
        "def winograd(A, B):\n",
        "    \"\"\"\n",
        "    Calcula o produto de duas matrizes A e B usando o algoritmo de Winograd.\n",
        "    \n",
        "    Parâmetros:\n",
        "    A (list of list of int/float): Matriz A.\n",
        "    B (list of list of int/float): Matriz B.\n",
        "    \n",
        "    Retorna:\n",
        "    list of list of int/float: Matriz resultante do produto A * B.\n",
        "    \"\"\"\n",
        "    \n",
        "    # Obtém as dimensões das matrizes\n",
        "    n = len(A)  # Número de linhas de A\n",
        "    m = len(B[0])  # Número de colunas de B\n",
        "    p = len(B)  # Número de linhas de B (ou colunas de A)\n",
        "    \n",
        "    # Inicializa a matriz de resultado C com zeros\n",
        "    C = [[0] * m for _ in range(n)]\n",
        "    \n",
        "    # Vetores intermediários para armazenar somas de linhas e colunas\n",
        "    row_factor = [0] * n\n",
        "    col_factor = [0] * m\n",
        "    \n",
        "    # Calcula os fatores de linha\n",
        "    for i in range(n):\n",
        "        for j in range(0, p // 2):\n",
        "            row_factor[i] += A[i][2 * j] * A[i][2 * j + 1]\n",
        "    \n",
        "    # Calcula os fatores de coluna\n",
        "    for i in range(m):\n",
        "        for j in range(0, p // 2):\n",
        "            col_factor[i] += B[2 * j][i] * B[2 * j + 1][i]\n",
        "    \n",
        "    # Calcula o produto das matrizes\n",
        "    for i in range(n):\n",
        "        for j in range(m):\n",
        "            C[i][j] = -row_factor[i] - col_factor[j]\n",
        "            for k in range(0, p // 2):\n",
        "                C[i][j] += (A[i][2 * k] + B[2 * k + 1][j]) * (A[i][2 * k + 1] + B[2 * k][j])\n",
        "    \n",
        "    # Ajusta para o caso de p ímpar\n",
        "    if p % 2 == 1:\n",
        "        for i in range(n):\n",
        "            for j in range(m):\n",
        "                C[i][j] += A[i][p - 1] * B[p - 1][j]\n",
        "    \n",
        "    return C"
      ]
    },
    {
      "cell_type": "markdown",
      "metadata": {},
      "source": [
        "## Matrix Multiplication Using <span style=\"color: #D9C65C;\">Karstadt</span> Algorithm"
      ]
    },
    {
      "cell_type": "code",
      "execution_count": 5,
      "metadata": {},
      "outputs": [],
      "source": [
        "import numpy as np\n",
        "\n",
        "# Exemplo de matrizes de transformação sugeridas\n",
        "phi = np.array([[1, 0],\n",
        "                [0, 1]])\n",
        "\n",
        "psi = phi  # Usaremos a mesma matriz para psi para simplificação\n",
        "upsilon = phi  # Usaremos a mesma matriz para upsilon\n",
        "inverse_upsilon = np.linalg.inv(upsilon)  # Calcula a inversa da matriz upsilon\n",
        "\n",
        "# Funções auxiliares para transformação de base\n",
        "def apply_basis_transform(A, transform):\n",
        "    \"\"\"Aplica a transformação de base a uma matriz.\"\"\"\n",
        "    return transform @ A @ transform.T\n",
        "\n",
        "def inverse_basis_transform(A, inverse_transform):\n",
        "    \"\"\"Aplica a transformação inversa de base a uma matriz.\"\"\"\n",
        "    return inverse_transform @ A @ inverse_transform.T\n",
        "\n",
        "# Função para preencher a matriz para o próximo tamanho de potência de 2\n",
        "def pad_matrix(matrix, new_shape):\n",
        "    padded_matrix = np.zeros(new_shape)\n",
        "    padded_matrix[:matrix.shape[0], :matrix.shape[1]] = matrix\n",
        "    return padded_matrix\n",
        "\n",
        "# Função para calcular o próximo tamanho de potência de 2\n",
        "def next_power_of_2(x):\n",
        "    return 1 if x == 0 else 2**(x - 1).bit_length()\n",
        "\n",
        "# Função Karstadt com transformação de base\n",
        "def karstadt_method(A, B):\n",
        "    \"\"\"Implementação do método sugerido no artigo para multiplicação de matrizes com transformação de base.\"\"\"\n",
        "    if len(A) == 1:\n",
        "        return A * B\n",
        "\n",
        "    mid = len(A) // 2\n",
        "\n",
        "    A11 = A[:mid, :mid]\n",
        "    A12 = A[:mid, mid:]\n",
        "    A21 = A[mid:, :mid]\n",
        "    A22 = A[mid:, mid:]\n",
        "\n",
        "    B11 = B[:mid, :mid]\n",
        "    B12 = B[:mid, mid:]\n",
        "    B21 = B[mid:, :mid]\n",
        "    B22 = B[mid:, mid:]\n",
        "\n",
        "    # Verificar se as matrizes de transformação estão no tamanho adequado\n",
        "    if phi.shape[0] == len(A11):\n",
        "        A11 = apply_basis_transform(A11, phi)\n",
        "        A12 = apply_basis_transform(A12, phi)\n",
        "        A21 = apply_basis_transform(A21, phi)\n",
        "        A22 = apply_basis_transform(A22, phi)\n",
        "    \n",
        "        B11 = apply_basis_transform(B11, psi)\n",
        "        B12 = apply_basis_transform(B12, psi)\n",
        "        B21 = apply_basis_transform(B21, psi)\n",
        "        B22 = apply_basis_transform(B22, psi)\n",
        "\n",
        "    # Calcula os produtos intermediários usando o método alternativo\n",
        "    M1 = karstadt_method(A11 + A22, B11 + B22)\n",
        "    M2 = karstadt_method(A21 + A22, B11)\n",
        "    M3 = karstadt_method(A11, B12 - B22)\n",
        "    M4 = karstadt_method(A22, B21 - B11)\n",
        "    M5 = karstadt_method(A11 + A12, B22)\n",
        "    M6 = karstadt_method(A21 - A11, B11 + B12)\n",
        "    M7 = karstadt_method(A12 - A22, B21 + B22)\n",
        "\n",
        "    C11 = M1 + M4 - M5 + M7\n",
        "    C12 = M3 + M5\n",
        "    C21 = M2 + M4\n",
        "    C22 = M1 - M2 + M3 + M6\n",
        "\n",
        "    C = np.vstack((np.hstack((C11, C12)), np.hstack((C21, C22))))\n",
        "    \n",
        "    # Aplicando a transformação inversa na matriz resultante\n",
        "    if upsilon.shape[0] == len(C):\n",
        "        C = inverse_basis_transform(C, inverse_upsilon)\n",
        "\n",
        "    return C\n",
        "\n",
        "# Função para multiplicação de matrizes usando o método Karstadt com preenchimento\n",
        "def karstadt_matrix_multiplication(A, B):\n",
        "    assert A.shape[1] == B.shape[0], \"Número de colunas de A deve ser igual ao número de linhas de B\"\n",
        "    \n",
        "    new_size = next_power_of_2(max(A.shape[0], A.shape[1], B.shape[0], B.shape[1]))\n",
        "    \n",
        "    A_padded = pad_matrix(A, (new_size, new_size))\n",
        "    B_padded = pad_matrix(B, (new_size, new_size))\n",
        "    \n",
        "    C_padded = karstadt_method(A_padded, B_padded)\n",
        "    \n",
        "    C = C_padded[:A.shape[0], :B.shape[1]]\n",
        "    \n",
        "    return C\n"
      ]
    },
    {
      "cell_type": "markdown",
      "metadata": {},
      "source": [
        "## Matrix Multiplication Using <span style=\"color: #D97D5C;\">Recursion</span> Algorithm"
      ]
    },
    {
      "cell_type": "code",
      "execution_count": 6,
      "metadata": {},
      "outputs": [],
      "source": [
        "def multiply_matrices_recursive(A, B):\n",
        "    \"\"\"\n",
        "    Calcula o produto de duas matrizes A e B usando recursão.\n",
        "    \n",
        "    Parâmetros:\n",
        "    A (list of list of int/float): Matriz A.\n",
        "    B (list of list of int/float): Matriz B.\n",
        "    \n",
        "    Retorna:\n",
        "    list of list of int/float: Matriz resultante do produto A * B.\n",
        "    \"\"\"\n",
        "    \n",
        "    # Função recursiva para multiplicar um elemento específico da matriz resultante\n",
        "    def multiply_element(A, B, i, j, k):\n",
        "        # Caso base: se k atingir o número de colunas de A, retorna 0\n",
        "        if k == len(A[0]):\n",
        "            return 0\n",
        "        # Multiplica o elemento correspondente de A e B e soma com a chamada recursiva para o próximo elemento\n",
        "        return A[i][k] * B[k][j] + multiply_element(A, B, i, j, k + 1)\n",
        "\n",
        "    # Função recursiva para multiplicar uma linha inteira da matriz resultante\n",
        "    def multiply_row(A, B, i, j):\n",
        "        # Caso base: se j atingir o número de colunas de B, retorna uma lista vazia\n",
        "        if j == len(B[0]):\n",
        "            return []\n",
        "        # Calcula o elemento da matriz resultante e concatena com a chamada recursiva para a próxima coluna\n",
        "        return [multiply_element(A, B, i, j, 0)] + multiply_row(A, B, i, j + 1)\n",
        "\n",
        "    # Função recursiva para multiplicar todas as linhas da matriz resultante\n",
        "    def multiply_all(A, B, i):\n",
        "        # Caso base: se i atingir o número de linhas de A, retorna uma lista vazia\n",
        "        if i == len(A):\n",
        "            return []\n",
        "        # Calcula a linha da matriz resultante e concatena com a chamada recursiva para a próxima linha\n",
        "        return [multiply_row(A, B, i, 0)] + multiply_all(A, B, i + 1)\n",
        "\n",
        "    # Inicia a multiplicação recursiva a partir da primeira linha\n",
        "    return multiply_all(A, B, 0)"
      ]
    },
    {
      "cell_type": "markdown",
      "metadata": {},
      "source": [
        "### Função para comparar todos os metodos de multiplicação de matrizes"
      ]
    },
    {
      "cell_type": "code",
      "execution_count": 7,
      "metadata": {},
      "outputs": [],
      "source": [
        "import numpy as np\n",
        "import time\n",
        "from memory_profiler import memory_usage\n",
        "import matplotlib.pyplot as plt\n",
        "from tabulate import tabulate\n",
        "\n",
        "# Funções auxiliares\n",
        "\n",
        "# Função para exibir uma matriz com um título\n",
        "def display_matrix(matrix, title):\n",
        "    print(title)\n",
        "    print(tabulate(matrix, tablefmt=\"grid\"))\n",
        "\n",
        "# Função para medir o desempenho de uma função\n",
        "def measure_performance(func, *args):\n",
        "    def wrapper():\n",
        "        start_time = time.perf_counter()  # Inicia a contagem do tempo\n",
        "        result = func(*args)  # Executa a função com os argumentos fornecidos\n",
        "        end_time = time.perf_counter()  # Termina a contagem do tempo\n",
        "        execution_time = end_time - start_time  # Calcula o tempo de execução\n",
        "        return result, execution_time\n",
        "    \n",
        "    # Mede o uso de memória e executa a função wrapper\n",
        "    mem_usage, (result, execution_time) = memory_usage(wrapper, retval=True, max_usage=True)\n",
        "    return result, execution_time, mem_usage\n",
        "\n",
        "# Função para exibir uma matriz com o desempenho (tempo e memória)\n",
        "def display_matrix_with_performance(matrix, title, exec_time, mem_usage):\n",
        "    display_matrix(matrix, title)  # Exibe a matriz\n",
        "    print(f\"Tempo de execução: {exec_time:.8f} segundos\")  # Exibe o tempo de execução\n",
        "    print(f\"Uso de memória: {mem_usage:.8f} MiB\")  # Exibe o uso de memória\n",
        "    print(\"\\n\")\n",
        "\n",
        "# Função para calcular o produto das matrizes\n",
        "def calculate_matrix_product(button):\n",
        "    global matrix_A_widgets, matrix_B_widgets\n",
        "    # Converte os widgets das matrizes A e B em arrays numpy\n",
        "    matrix_A = np.array([[matrix_A_widgets[i][j].value for j in range(cols_A.value)] for i in range(rows_A.value)])\n",
        "    matrix_B = np.array([[matrix_B_widgets[i][j].value for j in range(cols_B.value)] for i in range(rows_B.value)])\n",
        "    \n",
        "    # Lista de métodos de multiplicação de matrizes a serem comparados\n",
        "    methods = [\n",
        "        (\"Simples\", basic_matrix_product),\n",
        "        (\"Strassen\", strassen_matrix_multiplication),\n",
        "        (\"Winograd\", winograd),\n",
        "        (\"Karstadt\", karstadt_matrix_multiplication),\n",
        "        (\"Recursão\", multiply_matrices_recursive)\n",
        "    ]\n",
        "    \n",
        "    results = []\n",
        "    num_executions = 5  # Número de execuções para calcular a média e o desvio padrão\n",
        "    \n",
        "    try:\n",
        "        print(\"\\n\")\n",
        "        display_matrix(matrix_A, \"Matriz A\")  # Exibe a matriz A\n",
        "        print(\"\\n\")\n",
        "        display_matrix(matrix_B, \"Matriz B\")  # Exibe a matriz B\n",
        "        print(\"\\n\")\n",
        "        \n",
        "        # Itera sobre cada método de multiplicação\n",
        "        for method in methods:\n",
        "            exec_times = []\n",
        "            mem_usages = []\n",
        "            for _ in range(num_executions):\n",
        "                if len(method) == 2:\n",
        "                    name, func = method\n",
        "                    result, exec_time, mem_usage = measure_performance(func, matrix_A, matrix_B)\n",
        "                else:\n",
        "                    name, func, block_size = method\n",
        "                    result, exec_time, mem_usage = measure_performance(func, matrix_A, matrix_B, block_size)\n",
        "                \n",
        "                exec_times.append(exec_time)\n",
        "                mem_usages.append(mem_usage)\n",
        "            \n",
        "            # Calcula a média e o desvio padrão\n",
        "            mean_exec_time = np.mean(exec_times)\n",
        "            std_exec_time = np.std(exec_times)\n",
        "            mean_mem_usage = np.mean(mem_usages)\n",
        "            std_mem_usage = np.std(mem_usages)\n",
        "            \n",
        "            # Exibe o resultado da multiplicação com o desempenho\n",
        "            display_matrix_with_performance(result, f\"Resultado do Produto das Matrizes com {name}:\", mean_exec_time, mean_mem_usage)\n",
        "            results.append((name, mean_exec_time, std_exec_time, mean_mem_usage, std_mem_usage))\n",
        "        \n",
        "        # Criar o gráfico de comparação\n",
        "        names, mean_exec_times, std_exec_times, mean_mem_usages, std_mem_usages = zip(*results)\n",
        "\n",
        "        fig, ax1 = plt.subplots(figsize=(12, 8))\n",
        "\n",
        "        # Lista de cores para as barras\n",
        "        colors = ['tab:blue', 'tab:orange', 'tab:green', 'tab:red', 'tab:purple']\n",
        "\n",
        "        ax1.set_xlabel('Método', fontsize=14)\n",
        "        ax1.set_ylabel('Tempo de Execução (s)', color='tab:blue', fontsize=14)\n",
        "        ax1.bar(names, mean_exec_times, yerr=std_exec_times, color=colors, alpha=0.7, label='Tempo de Execução')\n",
        "        ax1.tick_params(axis='y', labelcolor='tab:blue', labelsize=12)\n",
        "        ax1.tick_params(axis='x', labelsize=12)\n",
        "\n",
        "        ax2 = ax1.twinx()\n",
        "        ax2.set_ylabel('Uso de Memória (MiB)', color='tab:red', fontsize=14)\n",
        "        ax2.errorbar(names, mean_mem_usages, yerr=std_mem_usages, color='tab:red', marker='o', markersize=8, label='Uso de Memória')\n",
        "        ax2.tick_params(axis='y', labelcolor='tab:red', labelsize=12)\n",
        "\n",
        "        plt.title('Comparação de Tempo de Execução e Uso de Memória', fontsize=16)\n",
        "        fig.tight_layout()\n",
        "        plt.show()\n",
        "    \n",
        "    except ValueError as e:\n",
        "        print(f\"Erro ao calcular o produto das matrizes: {e}\")"
      ]
    },
    {
      "cell_type": "markdown",
      "metadata": {},
      "source": [
        "### Criando Widget para usuarios"
      ]
    },
    {
      "cell_type": "code",
      "execution_count": 8,
      "metadata": {},
      "outputs": [
        {
          "data": {
            "application/vnd.jupyter.widget-view+json": {
              "model_id": "ccf77898f1304c8bb7064972ece8b5fc",
              "version_major": 2,
              "version_minor": 0
            },
            "text/plain": [
              "IntText(value=2, description='Linhas A')"
            ]
          },
          "metadata": {},
          "output_type": "display_data"
        },
        {
          "data": {
            "application/vnd.jupyter.widget-view+json": {
              "model_id": "98dacd7c641d4e8d97b1d9bfb67cab22",
              "version_major": 2,
              "version_minor": 0
            },
            "text/plain": [
              "IntText(value=3, description='Colunas A')"
            ]
          },
          "metadata": {},
          "output_type": "display_data"
        },
        {
          "data": {
            "application/vnd.jupyter.widget-view+json": {
              "model_id": "f5dc86b71752417c8bda290d53a9218b",
              "version_major": 2,
              "version_minor": 0
            },
            "text/plain": [
              "IntText(value=3, description='Linhas B')"
            ]
          },
          "metadata": {},
          "output_type": "display_data"
        },
        {
          "data": {
            "application/vnd.jupyter.widget-view+json": {
              "model_id": "a721c231675c4130aeab2f7266569630",
              "version_major": 2,
              "version_minor": 0
            },
            "text/plain": [
              "IntText(value=2, description='Colunas B')"
            ]
          },
          "metadata": {},
          "output_type": "display_data"
        },
        {
          "data": {
            "application/vnd.jupyter.widget-view+json": {
              "model_id": "361777afda134581b4ee01cd3eb2d750",
              "version_major": 2,
              "version_minor": 0
            },
            "text/plain": [
              "Button(description='Gerar Matrizes', style=ButtonStyle())"
            ]
          },
          "metadata": {},
          "output_type": "display_data"
        },
        {
          "data": {
            "application/vnd.jupyter.widget-view+json": {
              "model_id": "2e58d9431a45459da96cfbbbe0515291",
              "version_major": 2,
              "version_minor": 0
            },
            "text/plain": [
              "Button(description='Gerar Matrizes Aleatórias', style=ButtonStyle())"
            ]
          },
          "metadata": {},
          "output_type": "display_data"
        },
        {
          "data": {
            "application/vnd.jupyter.widget-view+json": {
              "model_id": "5ad205f15efa47969d74303d1e995510",
              "version_major": 2,
              "version_minor": 0
            },
            "text/plain": [
              "Button(description='Calcular', style=ButtonStyle())"
            ]
          },
          "metadata": {},
          "output_type": "display_data"
        },
        {
          "name": "stdout",
          "output_type": "stream",
          "text": [
            "Matriz A (Aleatória):\n"
          ]
        },
        {
          "data": {
            "application/vnd.jupyter.widget-view+json": {
              "model_id": "80c52595397743488ddc56c7ae7e6b4c",
              "version_major": 2,
              "version_minor": 0
            },
            "text/plain": [
              "HBox(children=(FloatText(value=49.0, description='A[0,0]'), FloatText(value=39.0, description='A[0,1]'), Float…"
            ]
          },
          "metadata": {},
          "output_type": "display_data"
        },
        {
          "data": {
            "application/vnd.jupyter.widget-view+json": {
              "model_id": "2b78ec2ba5424ddf8d8957ac762d2c04",
              "version_major": 2,
              "version_minor": 0
            },
            "text/plain": [
              "HBox(children=(FloatText(value=32.0, description='A[1,0]'), FloatText(value=4.0, description='A[1,1]'), FloatT…"
            ]
          },
          "metadata": {},
          "output_type": "display_data"
        },
        {
          "name": "stdout",
          "output_type": "stream",
          "text": [
            "Matriz B (Aleatória):\n"
          ]
        },
        {
          "data": {
            "application/vnd.jupyter.widget-view+json": {
              "model_id": "0af64d7f80c147759c855d2fa6a58099",
              "version_major": 2,
              "version_minor": 0
            },
            "text/plain": [
              "HBox(children=(FloatText(value=25.0, description='B[0,0]'), FloatText(value=40.0, description='B[0,1]')))"
            ]
          },
          "metadata": {},
          "output_type": "display_data"
        },
        {
          "data": {
            "application/vnd.jupyter.widget-view+json": {
              "model_id": "7e4ad85bdc8a43aba67a051953998571",
              "version_major": 2,
              "version_minor": 0
            },
            "text/plain": [
              "HBox(children=(FloatText(value=47.0, description='B[1,0]'), FloatText(value=12.0, description='B[1,1]')))"
            ]
          },
          "metadata": {},
          "output_type": "display_data"
        },
        {
          "data": {
            "application/vnd.jupyter.widget-view+json": {
              "model_id": "c3da675cad05456d9a8a44cdd1ba9324",
              "version_major": 2,
              "version_minor": 0
            },
            "text/plain": [
              "HBox(children=(FloatText(value=46.0, description='B[2,0]'), FloatText(value=14.0, description='B[2,1]')))"
            ]
          },
          "metadata": {},
          "output_type": "display_data"
        },
        {
          "name": "stdout",
          "output_type": "stream",
          "text": [
            "\n",
            "\n",
            "Matriz A\n",
            "+----+----+---+\n",
            "| 49 | 39 | 6 |\n",
            "+----+----+---+\n",
            "| 32 |  4 | 5 |\n",
            "+----+----+---+\n",
            "\n",
            "\n",
            "Matriz B\n",
            "+----+----+\n",
            "| 25 | 40 |\n",
            "+----+----+\n",
            "| 47 | 12 |\n",
            "+----+----+\n",
            "| 46 | 14 |\n",
            "+----+----+\n",
            "\n",
            "\n",
            "Resultado do Produto das Matrizes com Simples:\n",
            "+------+------+\n",
            "| 3334 | 2512 |\n",
            "+------+------+\n",
            "| 1218 | 1398 |\n",
            "+------+------+\n",
            "Tempo de execução: 0.00016844 segundos\n",
            "Uso de memória: 101.91015625 MiB\n",
            "\n",
            "\n",
            "Resultado do Produto das Matrizes com Strassen:\n",
            "+------+------+\n",
            "| 3334 | 2512 |\n",
            "+------+------+\n",
            "| 1218 | 1398 |\n",
            "+------+------+\n",
            "Tempo de execução: 0.00026282 segundos\n",
            "Uso de memória: 101.93359375 MiB\n",
            "\n",
            "\n",
            "Resultado do Produto das Matrizes com Winograd:\n",
            "+------+------+\n",
            "| 3334 | 2512 |\n",
            "+------+------+\n",
            "| 1218 | 1398 |\n",
            "+------+------+\n",
            "Tempo de execução: 0.00002570 segundos\n",
            "Uso de memória: 101.90468750 MiB\n",
            "\n",
            "\n",
            "Resultado do Produto das Matrizes com Karstadt:\n",
            "+------+------+\n",
            "| 3334 | 2512 |\n",
            "+------+------+\n",
            "| 1218 | 1398 |\n",
            "+------+------+\n",
            "Tempo de execução: 0.00032380 segundos\n",
            "Uso de memória: 101.93359375 MiB\n",
            "\n",
            "\n",
            "Resultado do Produto das Matrizes com Recursão:\n",
            "+------+------+\n",
            "| 3334 | 2512 |\n",
            "+------+------+\n",
            "| 1218 | 1398 |\n",
            "+------+------+\n",
            "Tempo de execução: 0.00002206 segundos\n",
            "Uso de memória: 101.72656250 MiB\n",
            "\n",
            "\n"
          ]
        },
        {
          "data": {
            "image/png": "[encoded data removed]",
            "text/plain": [
              "<Figure size 1200x800 with 2 Axes>"
            ]
          },
          "metadata": {},
          "output_type": "display_data"
        }
      ],
      "source": [
        "def create_matrix_widgets(rows, cols, matrix_name):\n",
        "    \"\"\"\n",
        "    Cria uma matriz de widgets FloatText para entrada de valores.\n",
        "\n",
        "    Args:\n",
        "    rows (int): Número de linhas da matriz.\n",
        "    cols (int): Número de colunas da matriz.\n",
        "    matrix_name (str): Nome da matriz (usado para rotular os widgets).\n",
        "\n",
        "    Returns:\n",
        "    list: Matriz de widgets FloatText.\n",
        "    \"\"\"\n",
        "    matrix = []\n",
        "    for i in range(rows):\n",
        "        row = []\n",
        "        for j in range(cols):\n",
        "            row.append(widgets.FloatText(description=f'{matrix_name}[{i},{j}]', value=0))\n",
        "        matrix.append(row)\n",
        "    return matrix\n",
        "\n",
        "def generate_random_matrix(rows, cols):\n",
        "    \"\"\"\n",
        "    Gera uma matriz aleatória de inteiros de dimensões especificadas, com valores até 50.\n",
        "\n",
        "    Args:\n",
        "    rows (int): Número de linhas da matriz.\n",
        "    cols (int): Número de colunas da matriz.\n",
        "\n",
        "    Returns:\n",
        "    np.ndarray: Matriz aleatória de inteiros.\n",
        "    \"\"\"\n",
        "    return np.random.randint(0, 51, size=(rows, cols))\n",
        "\n",
        "# Widgets para entrada do número de linhas e colunas\n",
        "rows_A = widgets.IntText(description='Linhas A', value=2)\n",
        "cols_A = widgets.IntText(description='Colunas A', value=3)\n",
        "rows_B = widgets.IntText(description='Linhas B', value=3)\n",
        "cols_B = widgets.IntText(description='Colunas B', value=2)\n",
        "\n",
        "# Variáveis globais para armazenar os widgets das matrizes\n",
        "matrix_A_widgets = []\n",
        "matrix_B_widgets = []\n",
        "\n",
        "# Função para gerar e exibir os widgets de entrada das matrizes\n",
        "def generate_matrix_widgets(button):\n",
        "    global matrix_A_widgets, matrix_B_widgets\n",
        "    matrix_A_widgets = create_matrix_widgets(rows_A.value, cols_A.value, 'A')\n",
        "    matrix_B_widgets = create_matrix_widgets(rows_B.value, cols_B.value, 'B')\n",
        "    \n",
        "    # Exibir widgets para a matriz A\n",
        "    print(\"Matriz A:\")\n",
        "    for row in matrix_A_widgets:\n",
        "        display(widgets.HBox(row))\n",
        "    \n",
        "    # Exibir widgets para a matriz B\n",
        "    print(\"Matriz B:\")\n",
        "    for row in matrix_B_widgets:\n",
        "        display(widgets.HBox(row))\n",
        "\n",
        "# Função para gerar e exibir matrizes aleatórias\n",
        "def generate_random_matrix_widgets(button):\n",
        "    global matrix_A_widgets, matrix_B_widgets\n",
        "    matrix_A = generate_random_matrix(rows_A.value, cols_A.value)\n",
        "    matrix_B = generate_random_matrix(rows_B.value, cols_B.value)\n",
        "    \n",
        "    matrix_A_widgets = create_matrix_widgets(rows_A.value, cols_A.value, 'A')\n",
        "    matrix_B_widgets = create_matrix_widgets(rows_B.value, cols_B.value, 'B')\n",
        "    \n",
        "    # Preencher widgets com valores aleatórios para a matriz A\n",
        "    for i in range(rows_A.value):\n",
        "        for j in range(cols_A.value):\n",
        "            matrix_A_widgets[i][j].value = matrix_A[i, j]\n",
        "    \n",
        "    # Preencher widgets com valores aleatórios para a matriz B\n",
        "    for i in range(rows_B.value):\n",
        "        for j in range(cols_B.value):\n",
        "            matrix_B_widgets[i][j].value = matrix_B[i, j]\n",
        "    \n",
        "    # Exibir widgets para a matriz A\n",
        "    print(\"Matriz A (Aleatória):\")\n",
        "    for row in matrix_A_widgets:\n",
        "        display(widgets.HBox(row))\n",
        "    \n",
        "    # Exibir widgets para a matriz B\n",
        "    print(\"Matriz B (Aleatória):\")\n",
        "    for row in matrix_B_widgets:\n",
        "        display(widgets.HBox(row))\n",
        "       \n",
        "# Botão para gerar os widgets de entrada das matrizes\n",
        "generate_button = widgets.Button(description=\"Gerar Matrizes\")\n",
        "generate_button.on_click(generate_matrix_widgets)\n",
        "\n",
        "# Botão para gerar matrizes aleatórias\n",
        "generate_random_button = widgets.Button(description=\"Gerar Matrizes Aleatórias\")\n",
        "generate_random_button.on_click(generate_random_matrix_widgets)\n",
        "\n",
        "# Botão para calcular o produto das matrizes\n",
        "calculate_button = widgets.Button(description=\"Calcular\")\n",
        "calculate_button.on_click(calculate_matrix_product)\n",
        "\n",
        "# Exibir widgets para entrada do número de linhas e colunas e os botões\n",
        "display(rows_A, cols_A, rows_B, cols_B, generate_button, generate_random_button, calculate_button)"
      ]
    }
  ],
  "metadata": {
    "colab": {
      "provenance": []
    },
    "kernelspec": {
      "display_name": "Python 3",
      "name": "python3"
    },
    "language_info": {
      "codemirror_mode": {
        "name": "ipython",
        "version": 3
      },
      "file_extension": ".py",
      "mimetype": "text/x-python",
      "name": "python",
      "nbconvert_exporter": "python",
      "pygments_lexer": "ipython3",
      "version": "3.12.3"
    }
  },
  "nbformat": 4,
  "nbformat_minor": 0
}
