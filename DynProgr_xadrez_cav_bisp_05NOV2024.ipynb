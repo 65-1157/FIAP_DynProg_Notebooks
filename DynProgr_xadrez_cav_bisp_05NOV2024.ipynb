{
  "nbformat": 4,
  "nbformat_minor": 0,
  "metadata": {
    "colab": {
      "provenance": []
    },
    "kernelspec": {
      "name": "python3",
      "display_name": "Python 3"
    },
    "language_info": {
      "name": "python"
    }
  },
  "cells": [
    {
      "cell_type": "markdown",
      "source": [
        "\n",
        "## Este notebook lida com o jogo de xadrez - cavalo (L) e bispo (diagonal)\n",
        "\n",
        "\n"
      ],
      "metadata": {
        "id": "kQ1eZPQHgAZ-"
      }
    },
    {
      "cell_type": "code",
      "source": [
        "# importar funcoes\n",
        "from functools import lru_cache"
      ],
      "metadata": {
        "id": "gakfw8E6f60j"
      },
      "execution_count": 23,
      "outputs": []
    },
    {
      "cell_type": "markdown",
      "source": [
        "### Parametros tecnicos"
      ],
      "metadata": {
        "id": "7YPz-3YqgPJ0"
      }
    },
    {
      "cell_type": "code",
      "source": [
        "# Definir o tamanho do tabuleiro de xadrez\n",
        "TABULEIRO = 8 # numero de casas em um tabuleiro\n",
        "# Movimentos possíveis do cavalo em 'L' - movimentos\n",
        "mov = [\n",
        "    (2, 1), (2, -1), (-2, 1), (-2, -1),\n",
        "    (1, 2), (1, -2), (-1, 2), (-1, -2)\n",
        "]\n",
        "# Movimentos possíveis do bispo em diagonal - direções\n",
        "dir = [\n",
        "    (1, 1), (1, -1), (-1, 1), (-1, -1)\n",
        "]"
      ],
      "metadata": {
        "id": "zypKSypegSfB"
      },
      "execution_count": 24,
      "outputs": []
    },
    {
      "cell_type": "markdown",
      "source": [
        "### Definicao de funcoes"
      ],
      "metadata": {
        "id": "-ir2Ak0rgiWo"
      }
    },
    {
      "cell_type": "code",
      "execution_count": 25,
      "metadata": {
        "id": "pr8GhTr8fuk-"
      },
      "outputs": [],
      "source": [
        "@lru_cache(None)\n",
        "def cav_mov(x, y, mov_rest,start_x=1, start_y=0):\n",
        "    \"\"\"\n",
        "    Calcula o número de maneiras de o cavalo alcançar a posição (x, y)\n",
        "    em um tabuleiro de xadrez após um determinado número de movimentos.\n",
        "    x, y: posição alvo no tabuleiro\n",
        "    mov_rest: número de movimentos restantes\n",
        "    \"\"\"\n",
        "    # Caso base: se não há mais movimentos e estamos na posição inicial (0,0)\n",
        "    if mov_rest == 0:\n",
        "        return 1 if (x, y) == (start_x, start_y) else 0\n",
        "\n",
        "    # Inicializar o contador de caminhos possíveis\n",
        "    count = 0\n",
        "    for dx, dy in mov:\n",
        "        nx, ny = x + dx, y + dy\n",
        "        # Verificar se o movimento mantém o cavalo dentro do tabuleiro\n",
        "        if 0 <= nx < TABULEIRO and 0 <= ny < TABULEIRO:\n",
        "            count += cav_mov(nx, ny, mov_rest - 1, start_x, start_y)\n",
        "\n",
        "    return count"
      ]
    },
    {
      "cell_type": "code",
      "source": [
        "@lru_cache(None)\n",
        "def bispo_mov(x, y, mov_rest,start_x=2, start_y=0):\n",
        "    \"\"\"\n",
        "    Calcula o número de maneiras de o bispo alcançar a posição (x, y)\n",
        "    \"\"\"\n",
        "    # Caso base: se não há mais movimentos e estamos na posição inicial (0,0)\n",
        "    if mov_rest == 0:\n",
        "        return 1 if (x, y) == (start_x, start_y) else 0\n",
        "\n",
        "    # Inicializar o contador de caminhos possíveis\n",
        "    count = 0\n",
        "    for dx, dy in dir:\n",
        "        nx, ny = x, y\n",
        "        # Bispo pode mover-se em cada direção até a borda do tabuleiro\n",
        "        while 0 <= nx + dx < TABULEIRO and 0 <= ny + dy < TABULEIRO:\n",
        "            nx += dx\n",
        "            ny += dy\n",
        "            count += bispo_mov(nx, ny, mov_rest - 1, start_x, start_y)\n",
        "    return count\n"
      ],
      "metadata": {
        "id": "8yUfWdRhg1aq"
      },
      "execution_count": 26,
      "outputs": []
    },
    {
      "cell_type": "code",
      "source": [
        "# Exemplo: calcular o número de maneiras de o cavalo chegar à posição (4, 4) em 3 movimentos\n",
        "x_target_1, y_target_1, total_mov = 2, 2, 1\n",
        "print(f\"Caminhos para posicao ({x_target_1}, {y_target_1}) in {total_mov} movimentos: {cav_mov(x_target_1, y_target_1, total_mov)}\")"
      ],
      "metadata": {
        "colab": {
          "base_uri": "https://localhost:8080/"
        },
        "id": "tnUrmesggxxx",
        "outputId": "d0b463bb-7f21-4b35-ae64-08687504c4b8"
      },
      "execution_count": 27,
      "outputs": [
        {
          "output_type": "stream",
          "name": "stdout",
          "text": [
            "Caminhos para posicao (2, 2) in 1 movimentos: 1\n"
          ]
        }
      ]
    },
    {
      "cell_type": "code",
      "source": [
        "# Exemplo: calcular o número de maneiras de o bispo chegar à posição (4, 4) em 2 movimentos\n",
        "x_target, y_target, total_mov = 4, 4, 2\n",
        "print(f\"Caminhos para posicao ({x_target}, {y_target}) in {total_mov} movimentos: {bispo_mov(x_target, y_target, total_mov)}\")"
      ],
      "metadata": {
        "colab": {
          "base_uri": "https://localhost:8080/"
        },
        "id": "mjtLPa4chQFQ",
        "outputId": "e87ba50a-f584-487f-f0c2-4136d66f5457"
      },
      "execution_count": 28,
      "outputs": [
        {
          "output_type": "stream",
          "name": "stdout",
          "text": [
            "Caminhos para posicao (4, 4) in 2 movimentos: 2\n"
          ]
        }
      ]
    },
    {
      "cell_type": "code",
      "source": [],
      "metadata": {
        "id": "hPwQ2pdKjdIe"
      },
      "execution_count": null,
      "outputs": []
    }
  ]
}