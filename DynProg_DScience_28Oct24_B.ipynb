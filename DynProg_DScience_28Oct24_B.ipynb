{
 "cells": [
  {
   "cell_type": "markdown",
   "id": "88032651-d32e-496e-8d80-9b92581ecf0a",
   "metadata": {},
   "source": [
    "## Este notebook versa sobre Dynamic Programming & Data Science\n",
    "### Trabalha-se com identificação de palavras em texto"
   ]
  },
  {
   "cell_type": "code",
   "execution_count": 108,
   "id": "37ea6424-a508-49ec-9eca-35121c0c8b4e",
   "metadata": {},
   "outputs": [],
   "source": [
    "# importação de bibliotecas\n",
    "from sklearn.feature_extraction.text import TfidfVectorizer\n",
    "from sklearn.model_selection import GridSearchCV\n",
    "from sklearn.svm import SVC\n",
    "from sklearn.model_selection import train_test_split\n",
    "from sklearn.metrics import classification_report,f1_score\n",
    "import numpy as np"
   ]
  },
  {
   "cell_type": "code",
   "execution_count": 109,
   "id": "f5cee4ab-1fe2-4af7-bfc9-49836ca22ebb",
   "metadata": {},
   "outputs": [],
   "source": [
    "# Função de Dynamic Programming para selecionar as palavras mais relevantes\n",
    "def caminho_otimo_tfidf(vetor):\n",
    "    n = len(vetor)\n",
    "    dp = np.zeros(n)\n",
    "    dp[0] = vetor[0]\n",
    "    indices = [0]\n",
    "\n",
    "    for i in range(1, n):\n",
    "        if vetor[i] > dp[i - 1]:\n",
    "            dp[i] = vetor[i]\n",
    "            indices.append(i)\n",
    "        else:\n",
    "            dp[i] = dp[i - 1]\n",
    "            \n",
    "    return [feature_names[i] for i in indices if vetor[i] > 0]"
   ]
  },
  {
   "cell_type": "code",
   "execution_count": 110,
   "id": "ad277028-1d27-41ca-8073-235ea778660d",
   "metadata": {},
   "outputs": [],
   "source": [
    "# parametro tecnico para usar no algoritmo SVM na classficacao\n",
    "param_grid = [0.1, 1, 10, 100, 1000]"
   ]
  },
  {
   "cell_type": "code",
   "execution_count": 111,
   "id": "98a2b97c-cac6-4dd9-a29a-7770fa198f1f",
   "metadata": {},
   "outputs": [],
   "source": [
    "# Conjunto de textos - exemplos\n",
    "texts = [\n",
    "    \"A inflação no Brasil teve um aumento considerável nos últimos meses, impactando o preço dos alimentos, combustíveis e serviços essenciais. Esse aumento afeta diretamente o poder de compra da população e pressiona o Banco Central a reajustar as taxas de juros para conter o avanço da inflação.\",\n",
    "    \"As próximas eleições municipais estão gerando grande expectativa entre os eleitores, especialmente em relação aos candidatos que defendem mudanças nas políticas de educação e saúde. As propostas dos candidatos são debatidas amplamente nas redes sociais, e a população está cada vez mais engajada.\",\n",
    "    \"A Black Friday está chegando e promete oferecer grandes descontos em produtos eletrônicos, moda e artigos para o lar. No entanto, é importante que os consumidores fiquem atentos às fraudes e verifiquem se os preços realmente valem a pena antes de realizar uma compra.\",\n",
    "    \"O campeonato de futebol deste ano está sendo um dos mais disputados, com várias equipes de ponta competindo pela liderança. Os torcedores lotam os estádios e acompanham cada partida, torcendo para que seu time conquiste o título.\",\n",
    "    \"O vestibular é um momento decisivo para milhares de estudantes que se preparam para entrar na universidade. Com a concorrência alta, muitos alunos intensificam os estudos e participam de cursinhos preparatórios para garantir uma boa colocação.\"\n",
    "]\n",
    "labels = [\"inflação\", \"eleições\", \"black friday\", \"futebol\", \"vestibular\"]"
   ]
  },
  {
   "cell_type": "code",
   "execution_count": 112,
   "id": "dbff2c7e-d24e-40da-bfa9-b13fa3ba15bc",
   "metadata": {},
   "outputs": [],
   "source": [
    "# Extraindo features de palavras usando TF-IDF\n",
    "vectorizer = TfidfVectorizer()\n",
    "X = vectorizer.fit_transform(texts).toarray()\n",
    "feature_names = vectorizer.get_feature_names_out()"
   ]
  },
  {
   "cell_type": "code",
   "execution_count": 113,
   "id": "fb15ea21-b0cd-4317-86e3-a7bae5392e46",
   "metadata": {},
   "outputs": [
    {
     "name": "stdout",
     "output_type": "stream",
     "text": [
      "Palavras relevantes por texto: [['afeta', 'aumento'], ['amplamente', 'as', 'candidatos'], ['antes', 'os'], ['acompanham', 'os'], ['alta', 'para']]\n"
     ]
    }
   ],
   "source": [
    "# Seleção das palavras mais relevantes para cada texto\n",
    "palavras_relevantes = [caminho_otimo_tfidf(x) for x in X]\n",
    "\n",
    "print(\"Palavras relevantes por texto:\", palavras_relevantes)"
   ]
  },
  {
   "cell_type": "code",
   "execution_count": 114,
   "id": "1e9cf2ce-3067-4fa4-a994-5dc39f6bdd21",
   "metadata": {},
   "outputs": [],
   "source": [
    "X_train, X_test, y_train, y_test = train_test_split(X, labels, test_size=0.2, random_state=42)"
   ]
  },
  {
   "cell_type": "code",
   "execution_count": 115,
   "id": "e32bc7b1-e7b9-44b8-adf3-ae120528760f",
   "metadata": {},
   "outputs": [],
   "source": [
    "melhor_f1_score = 0\n",
    "melhor_C = 1\n",
    "\n",
    "for C in param_grid:\n",
    "    svm = SVC(kernel='linear', C=C)\n",
    "    svm.fit(X_train, y_train)\n",
    "    y_pred = svm.predict(X_test)\n",
    "    f1_score_atual = f1_score(y_test, y_pred, average='weighted')\n",
    "    \n",
    "    if f1_score_atual > melhor_f1_score:\n",
    "        melhor_f1_score = f1_score_atual\n",
    "        melhor_C = C"
   ]
  },
  {
   "cell_type": "code",
   "execution_count": 116,
   "id": "f5cf3536-52ce-4d92-a4ee-36f3a28a144e",
   "metadata": {},
   "outputs": [
    {
     "name": "stdout",
     "output_type": "stream",
     "text": [
      "Melhor parâmetro C: 1\n"
     ]
    }
   ],
   "source": [
    "print(\"Melhor parâmetro C:\", melhor_C)"
   ]
  },
  {
   "cell_type": "code",
   "execution_count": 117,
   "id": "e7103cad-b2aa-4ea7-89c3-818b6fcf417d",
   "metadata": {},
   "outputs": [
    {
     "name": "stdout",
     "output_type": "stream",
     "text": [
      "              precision    recall  f1-score   support\n",
      "\n",
      "    eleições       1.00      0.00      0.00       1.0\n",
      "     futebol       0.00      1.00      0.00       0.0\n",
      "\n",
      "    accuracy                           0.00       1.0\n",
      "   macro avg       0.50      0.50      0.00       1.0\n",
      "weighted avg       1.00      0.00      0.00       1.0\n",
      "\n"
     ]
    }
   ],
   "source": [
    "best_svm = SVC(kernel='linear', C=melhor_C)\n",
    "best_svm.fit(X_train, y_train)\n",
    "y_pred = best_svm.predict(X_test)\n",
    "print(classification_report(y_test, y_pred, zero_division=1))"
   ]
  },
  {
   "cell_type": "code",
   "execution_count": null,
   "id": "ee24fa5a-fd21-46fe-97ac-0dc5134520f9",
   "metadata": {},
   "outputs": [],
   "source": []
  }
 ],
 "metadata": {
  "kernelspec": {
   "display_name": "Python 3 (ipykernel)",
   "language": "python",
   "name": "python3"
  },
  "language_info": {
   "codemirror_mode": {
    "name": "ipython",
    "version": 3
   },
   "file_extension": ".py",
   "mimetype": "text/x-python",
   "name": "python",
   "nbconvert_exporter": "python",
   "pygments_lexer": "ipython3",
   "version": "3.12.4"
  }
 },
 "nbformat": 4,
 "nbformat_minor": 5
}
